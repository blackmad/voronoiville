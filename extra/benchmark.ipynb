{
    "cells": [
        {
            "cell_type": "code",
            "execution_count": 1,
            "metadata": {},
            "outputs": [],
            "source": [
                "!pip install --quiet scipy==1.9.3 altair==4.2.0 watermark"
            ]
        },
        {
            "cell_type": "code",
            "execution_count": 2,
            "metadata": {},
            "outputs": [
                {
                    "name": "stdout",
                    "output_type": "stream",
                    "text": [
                        "Last updated: 2022-12-30T15:28:08.030418-05:00\n",
                        "\n",
                        "Python implementation: CPython\n",
                        "Python version       : 3.8.15\n",
                        "IPython version      : 8.7.0\n",
                        "\n",
                        "Compiler    : Clang 14.0.6 \n",
                        "OS          : Darwin\n",
                        "Release     : 21.2.0\n",
                        "Machine     : arm64\n",
                        "Processor   : arm\n",
                        "CPU cores   : 8\n",
                        "Architecture: 64bit\n",
                        "\n"
                    ]
                }
            ],
            "source": [
                "from watermark import watermark\n",
                "\n",
                "print(watermark())\n"
            ]
        },
        {
            "cell_type": "code",
            "execution_count": 3,
            "metadata": {},
            "outputs": [],
            "source": [
                "from scipy.spatial import Voronoi\n",
                "from voronoiville import voronoi, BoundingBox\n",
                "import numpy as np\n",
                "import altair as alt\n",
                "import pandas as pd\n"
            ]
        },
        {
            "cell_type": "code",
            "execution_count": 4,
            "metadata": {},
            "outputs": [
                {
                    "name": "stdout",
                    "output_type": "stream",
                    "text": [
                        "239 µs ± 2.28 µs per loop (mean ± std. dev. of 7 runs, 1,000 loops each)\n",
                        "59.7 µs ± 590 ns per loop (mean ± std. dev. of 7 runs, 10,000 loops each)\n",
                        "50.3 µs ± 904 ns per loop (mean ± std. dev. of 7 runs, 10,000 loops each)\n",
                        "1.43 ms ± 28.5 µs per loop (mean ± std. dev. of 7 runs, 1,000 loops each)\n",
                        "341 µs ± 2.24 µs per loop (mean ± std. dev. of 7 runs, 1,000 loops each)\n",
                        "290 µs ± 3.43 µs per loop (mean ± std. dev. of 7 runs, 1,000 loops each)\n",
                        "3.35 ms ± 699 µs per loop (mean ± std. dev. of 7 runs, 100 loops each)\n",
                        "705 µs ± 13 µs per loop (mean ± std. dev. of 7 runs, 1,000 loops each)\n",
                        "614 µs ± 20.9 µs per loop (mean ± std. dev. of 7 runs, 1,000 loops each)\n",
                        "32.9 ms ± 1.41 ms per loop (mean ± std. dev. of 7 runs, 10 loops each)\n",
                        "8.15 ms ± 181 µs per loop (mean ± std. dev. of 7 runs, 100 loops each)\n",
                        "7.08 ms ± 141 µs per loop (mean ± std. dev. of 7 runs, 100 loops each)\n",
                        "501 ms ± 26.3 ms per loop (mean ± std. dev. of 7 runs, 1 loop each)\n",
                        "129 ms ± 11.2 ms per loop (mean ± std. dev. of 7 runs, 10 loops each)\n",
                        "110 ms ± 7.99 ms per loop (mean ± std. dev. of 7 runs, 10 loops each)\n",
                        "4.29 s ± 1.03 s per loop (mean ± std. dev. of 7 runs, 1 loop each)\n",
                        "913 ms ± 49.7 ms per loop (mean ± std. dev. of 7 runs, 1 loop each)\n",
                        "652 ms ± 9.17 ms per loop (mean ± std. dev. of 7 runs, 1 loop each)\n",
                        "8.71 s ± 1.43 s per loop (mean ± std. dev. of 7 runs, 1 loop each)\n",
                        "3.27 s ± 1.18 s per loop (mean ± std. dev. of 7 runs, 1 loop each)\n",
                        "2.03 s ± 807 ms per loop (mean ± std. dev. of 7 runs, 1 loop each)\n"
                    ]
                }
            ],
            "source": [
                "timing_benchmarks = []\n",
                "for size in [100, 500, 1_000, 10_000, 100_000, 500_000, 1_000_000]:\n",
                "    scale = 100\n",
                "    points = np.random.random(size=(size, 2)) * scale\n",
                "    points_list = list(map(tuple, points.tolist()))\n",
                "    time_scipy = %timeit -o Voronoi(points)\n",
                "    time_vville = %timeit -o voronoi(points_list, BoundingBox(0, 0, scale, scale))\n",
                "    time_vville_nn = %timeit -o voronoi(points_list, BoundingBox(0, 0, scale, scale), return_neighbors=False)\n",
                "    data = {\"size\" : size, \"time_scipy\": time_scipy, \"time_vville\": time_vville, \"time_vville_nn\": time_vville_nn}\n",
                "    timing_benchmarks.append(data)"
            ]
        },
        {
            "cell_type": "code",
            "execution_count": 5,
            "metadata": {},
            "outputs": [],
            "source": [
                "benchmark_timings = []\n",
                "for run in timing_benchmarks:\n",
                "    for key in [\"time_scipy\", \"time_vville\", \"time_vville_nn\"]:\n",
                "        for timing in run[key].timings:\n",
                "            timings_data = {\"size\": run[\"size\"], \"source\": key, \"time\": timing}\n",
                "            benchmark_timings.append(timings_data)\n",
                "timing_df = pd.DataFrame(benchmark_timings)\n"
            ]
        },
        {
            "cell_type": "code",
            "execution_count": 6,
            "metadata": {},
            "outputs": [
                {
                    "name": "stderr",
                    "output_type": "stream",
                    "text": [
                        "/Users/peter/miniconda3/envs/voronoiville/lib/python3.8/site-packages/altair/utils/core.py:317: FutureWarning: iteritems is deprecated and will be removed in a future version. Use .items instead.\n",
                        "  for col_name, dtype in df.dtypes.iteritems():\n"
                    ]
                },
                {
                    "data": {
                        "text/html": [
                            "\n",
                            "<div id=\"altair-viz-2e676ba653584d3ba6387ddf47b22952\"></div>\n",
                            "<script type=\"text/javascript\">\n",
                            "  var VEGA_DEBUG = (typeof VEGA_DEBUG == \"undefined\") ? {} : VEGA_DEBUG;\n",
                            "  (function(spec, embedOpt){\n",
                            "    let outputDiv = document.currentScript.previousElementSibling;\n",
                            "    if (outputDiv.id !== \"altair-viz-2e676ba653584d3ba6387ddf47b22952\") {\n",
                            "      outputDiv = document.getElementById(\"altair-viz-2e676ba653584d3ba6387ddf47b22952\");\n",
                            "    }\n",
                            "    const paths = {\n",
                            "      \"vega\": \"https://cdn.jsdelivr.net/npm//vega@5?noext\",\n",
                            "      \"vega-lib\": \"https://cdn.jsdelivr.net/npm//vega-lib?noext\",\n",
                            "      \"vega-lite\": \"https://cdn.jsdelivr.net/npm//vega-lite@4.17.0?noext\",\n",
                            "      \"vega-embed\": \"https://cdn.jsdelivr.net/npm//vega-embed@6?noext\",\n",
                            "    };\n",
                            "\n",
                            "    function maybeLoadScript(lib, version) {\n",
                            "      var key = `${lib.replace(\"-\", \"\")}_version`;\n",
                            "      return (VEGA_DEBUG[key] == version) ?\n",
                            "        Promise.resolve(paths[lib]) :\n",
                            "        new Promise(function(resolve, reject) {\n",
                            "          var s = document.createElement('script');\n",
                            "          document.getElementsByTagName(\"head\")[0].appendChild(s);\n",
                            "          s.async = true;\n",
                            "          s.onload = () => {\n",
                            "            VEGA_DEBUG[key] = version;\n",
                            "            return resolve(paths[lib]);\n",
                            "          };\n",
                            "          s.onerror = () => reject(`Error loading script: ${paths[lib]}`);\n",
                            "          s.src = paths[lib];\n",
                            "        });\n",
                            "    }\n",
                            "\n",
                            "    function showError(err) {\n",
                            "      outputDiv.innerHTML = `<div class=\"error\" style=\"color:red;\">${err}</div>`;\n",
                            "      throw err;\n",
                            "    }\n",
                            "\n",
                            "    function displayChart(vegaEmbed) {\n",
                            "      vegaEmbed(outputDiv, spec, embedOpt)\n",
                            "        .catch(err => showError(`Javascript Error: ${err.message}<br>This usually means there's a typo in your chart specification. See the javascript console for the full traceback.`));\n",
                            "    }\n",
                            "\n",
                            "    if(typeof define === \"function\" && define.amd) {\n",
                            "      requirejs.config({paths});\n",
                            "      require([\"vega-embed\"], displayChart, err => showError(`Error loading script: ${err.message}`));\n",
                            "    } else {\n",
                            "      maybeLoadScript(\"vega\", \"5\")\n",
                            "        .then(() => maybeLoadScript(\"vega-lite\", \"4.17.0\"))\n",
                            "        .then(() => maybeLoadScript(\"vega-embed\", \"6\"))\n",
                            "        .catch(showError)\n",
                            "        .then(() => displayChart(vegaEmbed));\n",
                            "    }\n",
                            "  })({\"config\": {\"view\": {\"continuousWidth\": 400, \"continuousHeight\": 300}}, \"layer\": [{\"mark\": {\"type\": \"circle\", \"opacity\": 0.5}, \"encoding\": {\"color\": {\"field\": \"source\", \"type\": \"nominal\"}, \"x\": {\"field\": \"size\", \"type\": \"quantitative\"}, \"y\": {\"field\": \"time\", \"title\": \"time(s)\", \"type\": \"quantitative\"}}}, {\"mark\": \"line\", \"encoding\": {\"color\": {\"field\": \"source\", \"type\": \"nominal\"}, \"x\": {\"field\": \"size\", \"type\": \"quantitative\"}, \"y\": {\"aggregate\": \"mean\", \"field\": \"time\", \"title\": \"time(s)\", \"type\": \"quantitative\"}}}], \"data\": {\"name\": \"data-ef4fe913ad28c69da7c37abc5b76959e\"}, \"$schema\": \"https://vega.github.io/schema/vega-lite/v4.17.0.json\", \"datasets\": {\"data-ef4fe913ad28c69da7c37abc5b76959e\": [{\"size\": 100, \"source\": \"time_scipy\", \"time\": 0.00023895750000000015}, {\"size\": 100, \"source\": \"time_scipy\", \"time\": 0.0002374505}, {\"size\": 100, \"source\": \"time_scipy\", \"time\": 0.0002423594170000003}, {\"size\": 100, \"source\": \"time_scipy\", \"time\": 0.00023623270900000027}, {\"size\": 100, \"source\": \"time_scipy\", \"time\": 0.00023831466700000004}, {\"size\": 100, \"source\": \"time_scipy\", \"time\": 0.00023545962499999984}, {\"size\": 100, \"source\": \"time_scipy\", \"time\": 0.00024092883399999998}, {\"size\": 100, \"source\": \"time_vville\", \"time\": 5.9178604100000066e-05}, {\"size\": 100, \"source\": \"time_vville\", \"time\": 6.039412500000001e-05}, {\"size\": 100, \"source\": \"time_vville\", \"time\": 5.960812500000001e-05}, {\"size\": 100, \"source\": \"time_vville\", \"time\": 5.972107500000003e-05}, {\"size\": 100, \"source\": \"time_vville\", \"time\": 5.983284169999994e-05}, {\"size\": 100, \"source\": \"time_vville\", \"time\": 5.8709691699999845e-05}, {\"size\": 100, \"source\": \"time_vville\", \"time\": 6.052438329999994e-05}, {\"size\": 100, \"source\": \"time_vville_nn\", \"time\": 4.97623334e-05}, {\"size\": 100, \"source\": \"time_vville_nn\", \"time\": 4.98152708000001e-05}, {\"size\": 100, \"source\": \"time_vville_nn\", \"time\": 5.010326249999988e-05}, {\"size\": 100, \"source\": \"time_vville_nn\", \"time\": 5.2047475e-05}, {\"size\": 100, \"source\": \"time_vville_nn\", \"time\": 4.948016250000009e-05}, {\"size\": 100, \"source\": \"time_vville_nn\", \"time\": 5.1370154099999963e-05}, {\"size\": 100, \"source\": \"time_vville_nn\", \"time\": 4.976196249999987e-05}, {\"size\": 500, \"source\": \"time_scipy\", \"time\": 0.0014046823340000004}, {\"size\": 500, \"source\": \"time_scipy\", \"time\": 0.0014372837499999989}, {\"size\": 500, \"source\": \"time_scipy\", \"time\": 0.0014080777500000005}, {\"size\": 500, \"source\": \"time_scipy\", \"time\": 0.0014069738749999984}, {\"size\": 500, \"source\": \"time_scipy\", \"time\": 0.0014629570840000029}, {\"size\": 500, \"source\": \"time_scipy\", \"time\": 0.0014846685000000014}, {\"size\": 500, \"source\": \"time_scipy\", \"time\": 0.001438509167000003}, {\"size\": 500, \"source\": \"time_vville\", \"time\": 0.0003389722919999976}, {\"size\": 500, \"source\": \"time_vville\", \"time\": 0.00034186991700000036}, {\"size\": 500, \"source\": \"time_vville\", \"time\": 0.0003437303329999999}, {\"size\": 500, \"source\": \"time_vville\", \"time\": 0.00034264079199999744}, {\"size\": 500, \"source\": \"time_vville\", \"time\": 0.0003445224590000002}, {\"size\": 500, \"source\": \"time_vville\", \"time\": 0.00033959162499999705}, {\"size\": 500, \"source\": \"time_vville\", \"time\": 0.0003383890839999992}, {\"size\": 500, \"source\": \"time_vville_nn\", \"time\": 0.00028703133300000163}, {\"size\": 500, \"source\": \"time_vville_nn\", \"time\": 0.00029103608400000167}, {\"size\": 500, \"source\": \"time_vville_nn\", \"time\": 0.0002903380420000019}, {\"size\": 500, \"source\": \"time_vville_nn\", \"time\": 0.00029579204099999855}, {\"size\": 500, \"source\": \"time_vville_nn\", \"time\": 0.00028786754200000073}, {\"size\": 500, \"source\": \"time_vville_nn\", \"time\": 0.0002857890829999974}, {\"size\": 500, \"source\": \"time_vville_nn\", \"time\": 0.0002941247089999983}, {\"size\": 1000, \"source\": \"time_scipy\", \"time\": 0.002968817089999973}, {\"size\": 1000, \"source\": \"time_scipy\", \"time\": 0.0030285383300000033}, {\"size\": 1000, \"source\": \"time_scipy\", \"time\": 0.0030145075000000076}, {\"size\": 1000, \"source\": \"time_scipy\", \"time\": 0.005036610840000008}, {\"size\": 1000, \"source\": \"time_scipy\", \"time\": 0.0033558466699999913}, {\"size\": 1000, \"source\": \"time_scipy\", \"time\": 0.003010112920000054}, {\"size\": 1000, \"source\": \"time_scipy\", \"time\": 0.003030352090000008}, {\"size\": 1000, \"source\": \"time_vville\", \"time\": 0.0006915758749999981}, {\"size\": 1000, \"source\": \"time_vville\", \"time\": 0.0006887365000000045}, {\"size\": 1000, \"source\": \"time_vville\", \"time\": 0.0007138816669999955}, {\"size\": 1000, \"source\": \"time_vville\", \"time\": 0.0007024734590000037}, {\"size\": 1000, \"source\": \"time_vville\", \"time\": 0.0007142352500000015}, {\"size\": 1000, \"source\": \"time_vville\", \"time\": 0.0006971999580000058}, {\"size\": 1000, \"source\": \"time_vville\", \"time\": 0.0007274761250000025}, {\"size\": 1000, \"source\": \"time_vville_nn\", \"time\": 0.0006033502920000018}, {\"size\": 1000, \"source\": \"time_vville_nn\", \"time\": 0.0006005792089999958}, {\"size\": 1000, \"source\": \"time_vville_nn\", \"time\": 0.0005961854999999972}, {\"size\": 1000, \"source\": \"time_vville_nn\", \"time\": 0.0006609719169999976}, {\"size\": 1000, \"source\": \"time_vville_nn\", \"time\": 0.0006192904589999984}, {\"size\": 1000, \"source\": \"time_vville_nn\", \"time\": 0.0006168708339999966}, {\"size\": 1000, \"source\": \"time_vville_nn\", \"time\": 0.0005994602499999999}, {\"size\": 10000, \"source\": \"time_scipy\", \"time\": 0.03380392919999977}, {\"size\": 10000, \"source\": \"time_scipy\", \"time\": 0.030394887499999614}, {\"size\": 10000, \"source\": \"time_scipy\", \"time\": 0.03181559170000057}, {\"size\": 10000, \"source\": \"time_scipy\", \"time\": 0.032952562500000226}, {\"size\": 10000, \"source\": \"time_scipy\", \"time\": 0.033235108400000254}, {\"size\": 10000, \"source\": \"time_scipy\", \"time\": 0.0352331999999997}, {\"size\": 10000, \"source\": \"time_scipy\", \"time\": 0.032665812500000155}, {\"size\": 10000, \"source\": \"time_vville\", \"time\": 0.008398555839999986}, {\"size\": 10000, \"source\": \"time_vville\", \"time\": 0.008063056250000002}, {\"size\": 10000, \"source\": \"time_vville\", \"time\": 0.008159511670000015}, {\"size\": 10000, \"source\": \"time_vville\", \"time\": 0.007960927919999961}, {\"size\": 10000, \"source\": \"time_vville\", \"time\": 0.007893348750000015}, {\"size\": 10000, \"source\": \"time_vville\", \"time\": 0.008388472910000005}, {\"size\": 10000, \"source\": \"time_vville\", \"time\": 0.008200067910000044}, {\"size\": 10000, \"source\": \"time_vville_nn\", \"time\": 0.006996740000000017}, {\"size\": 10000, \"source\": \"time_vville_nn\", \"time\": 0.007070086660000001}, {\"size\": 10000, \"source\": \"time_vville_nn\", \"time\": 0.007343008339999954}, {\"size\": 10000, \"source\": \"time_vville_nn\", \"time\": 0.007041887500000002}, {\"size\": 10000, \"source\": \"time_vville_nn\", \"time\": 0.007197469999999981}, {\"size\": 10000, \"source\": \"time_vville_nn\", \"time\": 0.006997574160000042}, {\"size\": 10000, \"source\": \"time_vville_nn\", \"time\": 0.0068791000000000225}, {\"size\": 100000, \"source\": \"time_scipy\", \"time\": 0.4988215420000017}, {\"size\": 100000, \"source\": \"time_scipy\", \"time\": 0.4760835419999978}, {\"size\": 100000, \"source\": \"time_scipy\", \"time\": 0.471124875000001}, {\"size\": 100000, \"source\": \"time_scipy\", \"time\": 0.4905270419999965}, {\"size\": 100000, \"source\": \"time_scipy\", \"time\": 0.5260995000000008}, {\"size\": 100000, \"source\": \"time_scipy\", \"time\": 0.49389545900000087}, {\"size\": 100000, \"source\": \"time_scipy\", \"time\": 0.5513603340000017}, {\"size\": 100000, \"source\": \"time_vville\", \"time\": 0.1256871665999995}, {\"size\": 100000, \"source\": \"time_vville\", \"time\": 0.1186818125000002}, {\"size\": 100000, \"source\": \"time_vville\", \"time\": 0.12295077089999892}, {\"size\": 100000, \"source\": \"time_vville\", \"time\": 0.11975729159999986}, {\"size\": 100000, \"source\": \"time_vville\", \"time\": 0.12167317500000081}, {\"size\": 100000, \"source\": \"time_vville\", \"time\": 0.14035131250000035}, {\"size\": 100000, \"source\": \"time_vville\", \"time\": 0.1504247792000001}, {\"size\": 100000, \"source\": \"time_vville_nn\", \"time\": 0.10644210840000028}, {\"size\": 100000, \"source\": \"time_vville_nn\", \"time\": 0.11193500410000042}, {\"size\": 100000, \"source\": \"time_vville_nn\", \"time\": 0.12657810000000042}, {\"size\": 100000, \"source\": \"time_vville_nn\", \"time\": 0.10463287080000043}, {\"size\": 100000, \"source\": \"time_vville_nn\", \"time\": 0.1146106875000001}, {\"size\": 100000, \"source\": \"time_vville_nn\", \"time\": 0.1004311291999997}, {\"size\": 100000, \"source\": \"time_vville_nn\", \"time\": 0.10625884170000006}, {\"size\": 500000, \"source\": \"time_scipy\", \"time\": 3.2469260409999947}, {\"size\": 500000, \"source\": \"time_scipy\", \"time\": 4.017927165999993}, {\"size\": 500000, \"source\": \"time_scipy\", \"time\": 5.034168000000008}, {\"size\": 500000, \"source\": \"time_scipy\", \"time\": 3.8032368750000103}, {\"size\": 500000, \"source\": \"time_scipy\", \"time\": 3.716085665999998}, {\"size\": 500000, \"source\": \"time_scipy\", \"time\": 3.7185602079999995}, {\"size\": 500000, \"source\": \"time_scipy\", \"time\": 6.494584665999994}, {\"size\": 500000, \"source\": \"time_vville\", \"time\": 0.8802699160000031}, {\"size\": 500000, \"source\": \"time_vville\", \"time\": 0.8698240420000047}, {\"size\": 500000, \"source\": \"time_vville\", \"time\": 0.9297096669999974}, {\"size\": 500000, \"source\": \"time_vville\", \"time\": 0.8589160000000078}, {\"size\": 500000, \"source\": \"time_vville\", \"time\": 0.8832003750000013}, {\"size\": 500000, \"source\": \"time_vville\", \"time\": 0.9924286669999987}, {\"size\": 500000, \"source\": \"time_vville\", \"time\": 0.9757093340000011}, {\"size\": 500000, \"source\": \"time_vville_nn\", \"time\": 0.6464304999999939}, {\"size\": 500000, \"source\": \"time_vville_nn\", \"time\": 0.6625892920000069}, {\"size\": 500000, \"source\": \"time_vville_nn\", \"time\": 0.6581281249999904}, {\"size\": 500000, \"source\": \"time_vville_nn\", \"time\": 0.6630635000000069}, {\"size\": 500000, \"source\": \"time_vville_nn\", \"time\": 0.6366002919999971}, {\"size\": 500000, \"source\": \"time_vville_nn\", \"time\": 0.6524497090000239}, {\"size\": 500000, \"source\": \"time_vville_nn\", \"time\": 0.6450278750000109}, {\"size\": 1000000, \"source\": \"time_scipy\", \"time\": 12.04100037500001}, {\"size\": 1000000, \"source\": \"time_scipy\", \"time\": 8.249188374999989}, {\"size\": 1000000, \"source\": \"time_scipy\", \"time\": 8.59120387500002}, {\"size\": 1000000, \"source\": \"time_scipy\", \"time\": 7.394647292000002}, {\"size\": 1000000, \"source\": \"time_scipy\", \"time\": 7.645304541000002}, {\"size\": 1000000, \"source\": \"time_scipy\", \"time\": 8.721302291}, {\"size\": 1000000, \"source\": \"time_scipy\", \"time\": 8.324395207999999}, {\"size\": 1000000, \"source\": \"time_vville\", \"time\": 1.868552541000014}, {\"size\": 1000000, \"source\": \"time_vville\", \"time\": 2.347680582999999}, {\"size\": 1000000, \"source\": \"time_vville\", \"time\": 2.07285916699999}, {\"size\": 1000000, \"source\": \"time_vville\", \"time\": 2.872466375000016}, {\"size\": 1000000, \"source\": \"time_vville\", \"time\": 4.561896416999986}, {\"size\": 1000000, \"source\": \"time_vville\", \"time\": 4.838609875000003}, {\"size\": 1000000, \"source\": \"time_vville\", \"time\": 4.343226833999978}, {\"size\": 1000000, \"source\": \"time_vville_nn\", \"time\": 2.5572109170000203}, {\"size\": 1000000, \"source\": \"time_vville_nn\", \"time\": 2.0667600829999913}, {\"size\": 1000000, \"source\": \"time_vville_nn\", \"time\": 3.743932541999982}, {\"size\": 1000000, \"source\": \"time_vville_nn\", \"time\": 1.4178375840000115}, {\"size\": 1000000, \"source\": \"time_vville_nn\", \"time\": 1.3853299589999892}, {\"size\": 1000000, \"source\": \"time_vville_nn\", \"time\": 1.7112130829999899}, {\"size\": 1000000, \"source\": \"time_vville_nn\", \"time\": 1.3594860409999967}]}}, {\"mode\": \"vega-lite\"});\n",
                            "</script>"
                        ],
                        "text/plain": [
                            "alt.LayerChart(...)"
                        ]
                    },
                    "execution_count": 6,
                    "metadata": {},
                    "output_type": "execute_result"
                }
            ],
            "source": [
                "points = (\n",
                "    alt.Chart(timing_df)\n",
                "    .mark_circle(opacity=0.5)\n",
                "    .encode(x=\"size\", y=alt.Y(\"time\", title=\"time(s)\"), color=\"source\")\n",
                ")\n",
                "mean = (\n",
                "    alt.Chart(timing_df)\n",
                "    .mark_line()\n",
                "    .encode(x=alt.X(\"size\"), y=alt.Y(\"mean(time)\", title=\"time(s)\"), color=\"source\")\n",
                ")\n",
                "points + mean\n"
            ]
        },
        {
            "cell_type": "code",
            "execution_count": 7,
            "metadata": {},
            "outputs": [],
            "source": [
                "unstacked_means = timing_df.groupby([\"size\", \"source\"]).mean().unstack()\n",
                "unstacked_means.columns = unstacked_means[\"time\"].columns\n",
                "for column in unstacked_means:\n",
                "    name = column[column.find(\"_\") + 1 :]\n",
                "    unstacked_means[f\"scipy_ratio_{name}\"] = (\n",
                "        unstacked_means[\"time_scipy\"] / unstacked_means[column]\n",
                "    )\n"
            ]
        },
        {
            "cell_type": "code",
            "execution_count": 8,
            "metadata": {},
            "outputs": [],
            "source": [
                "ratio_data = (\n",
                "    unstacked_means.reset_index()[\n",
                "        [\"size\", \"scipy_ratio_vville\", \"scipy_ratio_vville_nn\"]\n",
                "    ]\n",
                "    .set_index(\"size\")\n",
                "    .stack()\n",
                "    .reset_index()\n",
                "    .rename(columns={0: \"time\"})\n",
                ")\n"
            ]
        },
        {
            "cell_type": "code",
            "execution_count": 9,
            "metadata": {},
            "outputs": [
                {
                    "name": "stderr",
                    "output_type": "stream",
                    "text": [
                        "/Users/peter/miniconda3/envs/voronoiville/lib/python3.8/site-packages/altair/utils/core.py:317: FutureWarning: iteritems is deprecated and will be removed in a future version. Use .items instead.\n",
                        "  for col_name, dtype in df.dtypes.iteritems():\n"
                    ]
                },
                {
                    "data": {
                        "text/html": [
                            "\n",
                            "<div id=\"altair-viz-dbd2428f952e445a96a5d9400d136452\"></div>\n",
                            "<script type=\"text/javascript\">\n",
                            "  var VEGA_DEBUG = (typeof VEGA_DEBUG == \"undefined\") ? {} : VEGA_DEBUG;\n",
                            "  (function(spec, embedOpt){\n",
                            "    let outputDiv = document.currentScript.previousElementSibling;\n",
                            "    if (outputDiv.id !== \"altair-viz-dbd2428f952e445a96a5d9400d136452\") {\n",
                            "      outputDiv = document.getElementById(\"altair-viz-dbd2428f952e445a96a5d9400d136452\");\n",
                            "    }\n",
                            "    const paths = {\n",
                            "      \"vega\": \"https://cdn.jsdelivr.net/npm//vega@5?noext\",\n",
                            "      \"vega-lib\": \"https://cdn.jsdelivr.net/npm//vega-lib?noext\",\n",
                            "      \"vega-lite\": \"https://cdn.jsdelivr.net/npm//vega-lite@4.17.0?noext\",\n",
                            "      \"vega-embed\": \"https://cdn.jsdelivr.net/npm//vega-embed@6?noext\",\n",
                            "    };\n",
                            "\n",
                            "    function maybeLoadScript(lib, version) {\n",
                            "      var key = `${lib.replace(\"-\", \"\")}_version`;\n",
                            "      return (VEGA_DEBUG[key] == version) ?\n",
                            "        Promise.resolve(paths[lib]) :\n",
                            "        new Promise(function(resolve, reject) {\n",
                            "          var s = document.createElement('script');\n",
                            "          document.getElementsByTagName(\"head\")[0].appendChild(s);\n",
                            "          s.async = true;\n",
                            "          s.onload = () => {\n",
                            "            VEGA_DEBUG[key] = version;\n",
                            "            return resolve(paths[lib]);\n",
                            "          };\n",
                            "          s.onerror = () => reject(`Error loading script: ${paths[lib]}`);\n",
                            "          s.src = paths[lib];\n",
                            "        });\n",
                            "    }\n",
                            "\n",
                            "    function showError(err) {\n",
                            "      outputDiv.innerHTML = `<div class=\"error\" style=\"color:red;\">${err}</div>`;\n",
                            "      throw err;\n",
                            "    }\n",
                            "\n",
                            "    function displayChart(vegaEmbed) {\n",
                            "      vegaEmbed(outputDiv, spec, embedOpt)\n",
                            "        .catch(err => showError(`Javascript Error: ${err.message}<br>This usually means there's a typo in your chart specification. See the javascript console for the full traceback.`));\n",
                            "    }\n",
                            "\n",
                            "    if(typeof define === \"function\" && define.amd) {\n",
                            "      requirejs.config({paths});\n",
                            "      require([\"vega-embed\"], displayChart, err => showError(`Error loading script: ${err.message}`));\n",
                            "    } else {\n",
                            "      maybeLoadScript(\"vega\", \"5\")\n",
                            "        .then(() => maybeLoadScript(\"vega-lite\", \"4.17.0\"))\n",
                            "        .then(() => maybeLoadScript(\"vega-embed\", \"6\"))\n",
                            "        .catch(showError)\n",
                            "        .then(() => displayChart(vegaEmbed));\n",
                            "    }\n",
                            "  })({\"config\": {\"view\": {\"continuousWidth\": 400, \"continuousHeight\": 300}}, \"data\": {\"name\": \"data-746482314f6a2edfe83ac36d78196b70\"}, \"mark\": \"line\", \"encoding\": {\"color\": {\"field\": \"source\", \"type\": \"nominal\"}, \"x\": {\"field\": \"size\", \"type\": \"quantitative\"}, \"y\": {\"field\": \"time\", \"type\": \"quantitative\"}}, \"$schema\": \"https://vega.github.io/schema/vega-lite/v4.17.0.json\", \"datasets\": {\"data-746482314f6a2edfe83ac36d78196b70\": [{\"size\": 100, \"source\": \"scipy_ratio_vville\", \"time\": 3.994803126544417}, {\"size\": 100, \"source\": \"scipy_ratio_vville_nn\", \"time\": 4.738889453645423}, {\"size\": 500, \"source\": \"scipy_ratio_vville\", \"time\": 4.20265435318153}, {\"size\": 500, \"source\": \"scipy_ratio_vville_nn\", \"time\": 4.942547772621141}, {\"size\": 1000, \"source\": \"scipy_ratio_vville\", \"time\": 4.7501592474816885}, {\"size\": 1000, \"source\": \"scipy_ratio_vville_nn\", \"time\": 5.456452457224352}, {\"size\": 10000, \"source\": \"scipy_ratio_vville\", \"time\": 4.0323378785197415}, {\"size\": 10000, \"source\": \"scipy_ratio_vville_nn\", \"time\": 4.646079055610819}, {\"size\": 100000, \"source\": \"scipy_ratio_vville\", \"time\": 3.899732850092564}, {\"size\": 100000, \"source\": \"scipy_ratio_vville_nn\", \"time\": 4.550478044684089}, {\"size\": 500000, \"source\": \"scipy_ratio_vville\", \"time\": 4.699720819012943}, {\"size\": 500000, \"source\": \"scipy_ratio_vville_nn\", \"time\": 6.579663709760344}, {\"size\": 1000000, \"source\": \"scipy_ratio_vville\", \"time\": 2.661701169783555}, {\"size\": 1000000, \"source\": \"scipy_ratio_vville_nn\", \"time\": 4.2808612315955195}]}}, {\"mode\": \"vega-lite\"});\n",
                            "</script>"
                        ],
                        "text/plain": [
                            "alt.Chart(...)"
                        ]
                    },
                    "execution_count": 9,
                    "metadata": {},
                    "output_type": "execute_result"
                }
            ],
            "source": [
                "alt.Chart(ratio_data).mark_line().encode(x=\"size\", y=\"time\", color=\"source\")\n"
            ]
        },
        {
            "cell_type": "code",
            "execution_count": 10,
            "metadata": {},
            "outputs": [
                {
                    "data": {
                        "text/plain": [
                            "source\n",
                            "scipy_ratio_vville       4.0\n",
                            "scipy_ratio_vville_nn    5.0\n",
                            "Name: time, dtype: float64"
                        ]
                    },
                    "execution_count": 10,
                    "metadata": {},
                    "output_type": "execute_result"
                }
            ],
            "source": [
                "ratio_data.groupby(\"source\")['time'].mean().round(1)"
            ]
        },
        {
            "cell_type": "code",
            "execution_count": null,
            "metadata": {},
            "outputs": [],
            "source": []
        }
    ],
    "metadata": {
        "kernelspec": {
            "display_name": "voronoiville",
            "language": "python",
            "name": "python3"
        },
        "language_info": {
            "codemirror_mode": {
                "name": "ipython",
                "version": 3
            },
            "file_extension": ".py",
            "mimetype": "text/x-python",
            "name": "python",
            "nbconvert_exporter": "python",
            "pygments_lexer": "ipython3",
            "version": "3.8.15"
        },
        "orig_nbformat": 4,
        "vscode": {
            "interpreter": {
                "hash": "90032dba2020bc3b597caa74f2143fdc01e21ba242c997e57887754077a77dc6"
            }
        }
    },
    "nbformat": 4,
    "nbformat_minor": 2
}
