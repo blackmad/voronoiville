{
    "cells": [
        {
            "cell_type": "code",
            "execution_count": 1,
            "metadata": {},
            "outputs": [],
            "source": [
                "!pip install --quiet scipy==1.9.3 altair==4.2.0 watermark"
            ]
        },
        {
            "cell_type": "code",
            "execution_count": 2,
            "metadata": {},
            "outputs": [
                {
                    "name": "stdout",
                    "output_type": "stream",
                    "text": [
                        "Last updated: 2022-12-30T13:02:43.276252-05:00\n",
                        "\n",
                        "Python implementation: CPython\n",
                        "Python version       : 3.8.15\n",
                        "IPython version      : 8.7.0\n",
                        "\n",
                        "Compiler    : Clang 14.0.6 \n",
                        "OS          : Darwin\n",
                        "Release     : 21.2.0\n",
                        "Machine     : arm64\n",
                        "Processor   : arm\n",
                        "CPU cores   : 8\n",
                        "Architecture: 64bit\n",
                        "\n"
                    ]
                }
            ],
            "source": [
                "from watermark import watermark\n",
                "\n",
                "print(watermark())\n"
            ]
        },
        {
            "cell_type": "code",
            "execution_count": 3,
            "metadata": {},
            "outputs": [],
            "source": [
                "from scipy.spatial import Voronoi\n",
                "from voronoiville import voronoi, BoundingBox\n",
                "import numpy as np\n",
                "import altair as alt\n",
                "import pandas as pd\n"
            ]
        },
        {
            "cell_type": "code",
            "execution_count": 4,
            "metadata": {},
            "outputs": [
                {
                    "name": "stdout",
                    "output_type": "stream",
                    "text": [
                        "233 µs ± 4.78 µs per loop (mean ± std. dev. of 7 runs, 1,000 loops each)\n",
                        "59.7 µs ± 729 ns per loop (mean ± std. dev. of 7 runs, 10,000 loops each)\n",
                        "51.3 µs ± 3.87 µs per loop (mean ± std. dev. of 7 runs, 10,000 loops each)\n",
                        "1.44 ms ± 38 µs per loop (mean ± std. dev. of 7 runs, 1,000 loops each)\n",
                        "336 µs ± 23.7 µs per loop (mean ± std. dev. of 7 runs, 1,000 loops each)\n",
                        "278 µs ± 2.85 µs per loop (mean ± std. dev. of 7 runs, 1,000 loops each)\n",
                        "2.99 ms ± 75.5 µs per loop (mean ± std. dev. of 7 runs, 100 loops each)\n",
                        "696 µs ± 4.78 µs per loop (mean ± std. dev. of 7 runs, 1,000 loops each)\n",
                        "604 µs ± 12.8 µs per loop (mean ± std. dev. of 7 runs, 1,000 loops each)\n",
                        "31.2 ms ± 417 µs per loop (mean ± std. dev. of 7 runs, 10 loops each)\n",
                        "8.02 ms ± 158 µs per loop (mean ± std. dev. of 7 runs, 100 loops each)\n",
                        "7.2 ms ± 361 µs per loop (mean ± std. dev. of 7 runs, 100 loops each)\n",
                        "505 ms ± 34.7 ms per loop (mean ± std. dev. of 7 runs, 1 loop each)\n",
                        "117 ms ± 2.69 ms per loop (mean ± std. dev. of 7 runs, 10 loops each)\n",
                        "95.6 ms ± 3.63 ms per loop (mean ± std. dev. of 7 runs, 10 loops each)\n",
                        "3.17 s ± 279 ms per loop (mean ± std. dev. of 7 runs, 1 loop each)\n",
                        "964 ms ± 216 ms per loop (mean ± std. dev. of 7 runs, 1 loop each)\n",
                        "628 ms ± 16.5 ms per loop (mean ± std. dev. of 7 runs, 1 loop each)\n",
                        "8.55 s ± 1.3 s per loop (mean ± std. dev. of 7 runs, 1 loop each)\n",
                        "2.09 s ± 194 ms per loop (mean ± std. dev. of 7 runs, 1 loop each)\n",
                        "1.98 s ± 362 ms per loop (mean ± std. dev. of 7 runs, 1 loop each)\n"
                    ]
                }
            ],
            "source": [
                "timing_benchmarks = []\n",
                "for size in [100, 500, 1_000, 10_000, 100_000, 500_000, 1_000_000]:\n",
                "    scale = 100\n",
                "    points = np.random.random(size=(size, 2)) * scale\n",
                "    points_list = list(map(tuple, points.tolist()))\n",
                "    time_scipy = %timeit -o Voronoi(points)\n",
                "    time_vville = %timeit -o voronoi(points_list, BoundingBox(0, 0, scale, scale))\n",
                "    time_vville_nn = %timeit -o voronoi(points_list, BoundingBox(0, 0, scale, scale), return_neighbors=False)\n",
                "    data = {\"size\" : size, \"time_scipy\": time_scipy, \"time_vville\": time_vville, \"time_vville_nn\": time_vville_nn}\n",
                "    timing_benchmarks.append(data)"
            ]
        },
        {
            "cell_type": "code",
            "execution_count": 5,
            "metadata": {},
            "outputs": [],
            "source": [
                "benchmark_timings = []\n",
                "for run in timing_benchmarks:\n",
                "    for key in [\"time_scipy\", \"time_vville\", \"time_vville_nn\"]:\n",
                "        for timing in run[key].timings:\n",
                "            timings_data = {\"size\": run[\"size\"], \"source\": key, \"time\": timing}\n",
                "            benchmark_timings.append(timings_data)\n",
                "timing_df = pd.DataFrame(benchmark_timings)\n"
            ]
        },
        {
            "cell_type": "code",
            "execution_count": 6,
            "metadata": {},
            "outputs": [
                {
                    "name": "stderr",
                    "output_type": "stream",
                    "text": [
                        "/Users/peter/miniconda3/envs/voronoiville/lib/python3.8/site-packages/altair/utils/core.py:317: FutureWarning: iteritems is deprecated and will be removed in a future version. Use .items instead.\n",
                        "  for col_name, dtype in df.dtypes.iteritems():\n"
                    ]
                },
                {
                    "data": {
                        "text/html": [
                            "\n",
                            "<div id=\"altair-viz-c72ba8d87e034164bb2eb35203cde311\"></div>\n",
                            "<script type=\"text/javascript\">\n",
                            "  var VEGA_DEBUG = (typeof VEGA_DEBUG == \"undefined\") ? {} : VEGA_DEBUG;\n",
                            "  (function(spec, embedOpt){\n",
                            "    let outputDiv = document.currentScript.previousElementSibling;\n",
                            "    if (outputDiv.id !== \"altair-viz-c72ba8d87e034164bb2eb35203cde311\") {\n",
                            "      outputDiv = document.getElementById(\"altair-viz-c72ba8d87e034164bb2eb35203cde311\");\n",
                            "    }\n",
                            "    const paths = {\n",
                            "      \"vega\": \"https://cdn.jsdelivr.net/npm//vega@5?noext\",\n",
                            "      \"vega-lib\": \"https://cdn.jsdelivr.net/npm//vega-lib?noext\",\n",
                            "      \"vega-lite\": \"https://cdn.jsdelivr.net/npm//vega-lite@4.17.0?noext\",\n",
                            "      \"vega-embed\": \"https://cdn.jsdelivr.net/npm//vega-embed@6?noext\",\n",
                            "    };\n",
                            "\n",
                            "    function maybeLoadScript(lib, version) {\n",
                            "      var key = `${lib.replace(\"-\", \"\")}_version`;\n",
                            "      return (VEGA_DEBUG[key] == version) ?\n",
                            "        Promise.resolve(paths[lib]) :\n",
                            "        new Promise(function(resolve, reject) {\n",
                            "          var s = document.createElement('script');\n",
                            "          document.getElementsByTagName(\"head\")[0].appendChild(s);\n",
                            "          s.async = true;\n",
                            "          s.onload = () => {\n",
                            "            VEGA_DEBUG[key] = version;\n",
                            "            return resolve(paths[lib]);\n",
                            "          };\n",
                            "          s.onerror = () => reject(`Error loading script: ${paths[lib]}`);\n",
                            "          s.src = paths[lib];\n",
                            "        });\n",
                            "    }\n",
                            "\n",
                            "    function showError(err) {\n",
                            "      outputDiv.innerHTML = `<div class=\"error\" style=\"color:red;\">${err}</div>`;\n",
                            "      throw err;\n",
                            "    }\n",
                            "\n",
                            "    function displayChart(vegaEmbed) {\n",
                            "      vegaEmbed(outputDiv, spec, embedOpt)\n",
                            "        .catch(err => showError(`Javascript Error: ${err.message}<br>This usually means there's a typo in your chart specification. See the javascript console for the full traceback.`));\n",
                            "    }\n",
                            "\n",
                            "    if(typeof define === \"function\" && define.amd) {\n",
                            "      requirejs.config({paths});\n",
                            "      require([\"vega-embed\"], displayChart, err => showError(`Error loading script: ${err.message}`));\n",
                            "    } else {\n",
                            "      maybeLoadScript(\"vega\", \"5\")\n",
                            "        .then(() => maybeLoadScript(\"vega-lite\", \"4.17.0\"))\n",
                            "        .then(() => maybeLoadScript(\"vega-embed\", \"6\"))\n",
                            "        .catch(showError)\n",
                            "        .then(() => displayChart(vegaEmbed));\n",
                            "    }\n",
                            "  })({\"config\": {\"view\": {\"continuousWidth\": 400, \"continuousHeight\": 300}}, \"layer\": [{\"mark\": {\"type\": \"circle\", \"opacity\": 0.5}, \"encoding\": {\"color\": {\"field\": \"source\", \"type\": \"nominal\"}, \"x\": {\"field\": \"size\", \"type\": \"quantitative\"}, \"y\": {\"field\": \"time\", \"title\": \"time(s)\", \"type\": \"quantitative\"}}}, {\"mark\": \"line\", \"encoding\": {\"color\": {\"field\": \"source\", \"type\": \"nominal\"}, \"x\": {\"field\": \"size\", \"type\": \"quantitative\"}, \"y\": {\"aggregate\": \"mean\", \"field\": \"time\", \"title\": \"time(s)\", \"type\": \"quantitative\"}}}], \"data\": {\"name\": \"data-b7a91d219ae8e4cd9a22fa3fc89bd3a7\"}, \"$schema\": \"https://vega.github.io/schema/vega-lite/v4.17.0.json\", \"datasets\": {\"data-b7a91d219ae8e4cd9a22fa3fc89bd3a7\": [{\"size\": 100, \"source\": \"time_scipy\", \"time\": 0.0002309334169999997}, {\"size\": 100, \"source\": \"time_scipy\", \"time\": 0.00023051866699999967}, {\"size\": 100, \"source\": \"time_scipy\", \"time\": 0.0002326238329999999}, {\"size\": 100, \"source\": \"time_scipy\", \"time\": 0.0002443784170000001}, {\"size\": 100, \"source\": \"time_scipy\", \"time\": 0.00022966858300000047}, {\"size\": 100, \"source\": \"time_scipy\", \"time\": 0.00023168495800000066}, {\"size\": 100, \"source\": \"time_scipy\", \"time\": 0.00023030600000000057}, {\"size\": 100, \"source\": \"time_vville\", \"time\": 5.928256670000005e-05}, {\"size\": 100, \"source\": \"time_vville\", \"time\": 5.952904590000001e-05}, {\"size\": 100, \"source\": \"time_vville\", \"time\": 5.909782090000002e-05}, {\"size\": 100, \"source\": \"time_vville\", \"time\": 5.89778334e-05}, {\"size\": 100, \"source\": \"time_vville\", \"time\": 6.124544160000003e-05}, {\"size\": 100, \"source\": \"time_vville\", \"time\": 5.966249170000015e-05}, {\"size\": 100, \"source\": \"time_vville\", \"time\": 6.0192370799999926e-05}, {\"size\": 100, \"source\": \"time_vville_nn\", \"time\": 6.072349579999994e-05}, {\"size\": 100, \"source\": \"time_vville_nn\", \"time\": 5.034360409999987e-05}, {\"size\": 100, \"source\": \"time_vville_nn\", \"time\": 5.011338330000008e-05}, {\"size\": 100, \"source\": \"time_vville_nn\", \"time\": 4.947357499999985e-05}, {\"size\": 100, \"source\": \"time_vville_nn\", \"time\": 5.0093329200000094e-05}, {\"size\": 100, \"source\": \"time_vville_nn\", \"time\": 4.902263750000007e-05}, {\"size\": 100, \"source\": \"time_vville_nn\", \"time\": 4.9325566700000145e-05}, {\"size\": 500, \"source\": \"time_scipy\", \"time\": 0.0014101196249999984}, {\"size\": 500, \"source\": \"time_scipy\", \"time\": 0.001401935291000001}, {\"size\": 500, \"source\": \"time_scipy\", \"time\": 0.0014049329589999999}, {\"size\": 500, \"source\": \"time_scipy\", \"time\": 0.0014398750840000005}, {\"size\": 500, \"source\": \"time_scipy\", \"time\": 0.0015097605419999987}, {\"size\": 500, \"source\": \"time_scipy\", \"time\": 0.0014719198749999975}, {\"size\": 500, \"source\": \"time_scipy\", \"time\": 0.0014120424579999985}, {\"size\": 500, \"source\": \"time_vville\", \"time\": 0.0003233874589999992}, {\"size\": 500, \"source\": \"time_vville\", \"time\": 0.0003110992500000016}, {\"size\": 500, \"source\": \"time_vville\", \"time\": 0.0003293780410000018}, {\"size\": 500, \"source\": \"time_vville\", \"time\": 0.0003209112499999982}, {\"size\": 500, \"source\": \"time_vville\", \"time\": 0.00038389804099999835}, {\"size\": 500, \"source\": \"time_vville\", \"time\": 0.0003569192079999972}, {\"size\": 500, \"source\": \"time_vville\", \"time\": 0.00032390241699999935}, {\"size\": 500, \"source\": \"time_vville_nn\", \"time\": 0.00027169037500000213}, {\"size\": 500, \"source\": \"time_vville_nn\", \"time\": 0.00027794479099999946}, {\"size\": 500, \"source\": \"time_vville_nn\", \"time\": 0.0002793757919999997}, {\"size\": 500, \"source\": \"time_vville_nn\", \"time\": 0.0002815453750000003}, {\"size\": 500, \"source\": \"time_vville_nn\", \"time\": 0.0002793334999999999}, {\"size\": 500, \"source\": \"time_vville_nn\", \"time\": 0.00027837766699999734}, {\"size\": 500, \"source\": \"time_vville_nn\", \"time\": 0.00027707958300000256}, {\"size\": 1000, \"source\": \"time_scipy\", \"time\": 0.003081041249999998}, {\"size\": 1000, \"source\": \"time_scipy\", \"time\": 0.002893723339999994}, {\"size\": 1000, \"source\": \"time_scipy\", \"time\": 0.0030016483400000025}, {\"size\": 1000, \"source\": \"time_scipy\", \"time\": 0.0031019270899999896}, {\"size\": 1000, \"source\": \"time_scipy\", \"time\": 0.003002246669999984}, {\"size\": 1000, \"source\": \"time_scipy\", \"time\": 0.0028967041699999997}, {\"size\": 1000, \"source\": \"time_scipy\", \"time\": 0.0029603087499999957}, {\"size\": 1000, \"source\": \"time_vville\", \"time\": 0.0006936040420000041}, {\"size\": 1000, \"source\": \"time_vville\", \"time\": 0.0006971545839999962}, {\"size\": 1000, \"source\": \"time_vville\", \"time\": 0.0006936681660000019}, {\"size\": 1000, \"source\": \"time_vville\", \"time\": 0.0006906557920000012}, {\"size\": 1000, \"source\": \"time_vville\", \"time\": 0.000699967583000003}, {\"size\": 1000, \"source\": \"time_vville\", \"time\": 0.000689966499999997}, {\"size\": 1000, \"source\": \"time_vville\", \"time\": 0.0007042247920000051}, {\"size\": 1000, \"source\": \"time_vville_nn\", \"time\": 0.0005891397080000047}, {\"size\": 1000, \"source\": \"time_vville_nn\", \"time\": 0.0005946174589999984}, {\"size\": 1000, \"source\": \"time_vville_nn\", \"time\": 0.0006291812910000019}, {\"size\": 1000, \"source\": \"time_vville_nn\", \"time\": 0.0005960064999999944}, {\"size\": 1000, \"source\": \"time_vville_nn\", \"time\": 0.0006112682079999985}, {\"size\": 1000, \"source\": \"time_vville_nn\", \"time\": 0.0005973418330000016}, {\"size\": 1000, \"source\": \"time_vville_nn\", \"time\": 0.0006098945830000062}, {\"size\": 10000, \"source\": \"time_scipy\", \"time\": 0.031143737500000414}, {\"size\": 10000, \"source\": \"time_scipy\", \"time\": 0.031352629199999885}, {\"size\": 10000, \"source\": \"time_scipy\", \"time\": 0.031313683399999806}, {\"size\": 10000, \"source\": \"time_scipy\", \"time\": 0.03211410839999971}, {\"size\": 10000, \"source\": \"time_scipy\", \"time\": 0.03115687500000064}, {\"size\": 10000, \"source\": \"time_scipy\", \"time\": 0.03074000419999976}, {\"size\": 10000, \"source\": \"time_scipy\", \"time\": 0.03082571670000007}, {\"size\": 10000, \"source\": \"time_vville\", \"time\": 0.007963050420000001}, {\"size\": 10000, \"source\": \"time_vville\", \"time\": 0.007882231249999948}, {\"size\": 10000, \"source\": \"time_vville\", \"time\": 0.007973104999999947}, {\"size\": 10000, \"source\": \"time_vville\", \"time\": 0.007872097500000024}, {\"size\": 10000, \"source\": \"time_vville\", \"time\": 0.008372883749999999}, {\"size\": 10000, \"source\": \"time_vville\", \"time\": 0.008067926669999963}, {\"size\": 10000, \"source\": \"time_vville\", \"time\": 0.007993597500000007}, {\"size\": 10000, \"source\": \"time_vville_nn\", \"time\": 0.006996937090000017}, {\"size\": 10000, \"source\": \"time_vville_nn\", \"time\": 0.008026979999999994}, {\"size\": 10000, \"source\": \"time_vville_nn\", \"time\": 0.006948524579999997}, {\"size\": 10000, \"source\": \"time_vville_nn\", \"time\": 0.007265766249999999}, {\"size\": 10000, \"source\": \"time_vville_nn\", \"time\": 0.006972712919999964}, {\"size\": 10000, \"source\": \"time_vville_nn\", \"time\": 0.007237394169999974}, {\"size\": 10000, \"source\": \"time_vville_nn\", \"time\": 0.006942965839999999}, {\"size\": 100000, \"source\": \"time_scipy\", \"time\": 0.48594791600000065}, {\"size\": 100000, \"source\": \"time_scipy\", \"time\": 0.48272012500000017}, {\"size\": 100000, \"source\": \"time_scipy\", \"time\": 0.46715083299999804}, {\"size\": 100000, \"source\": \"time_scipy\", \"time\": 0.5342674169999952}, {\"size\": 100000, \"source\": \"time_scipy\", \"time\": 0.5761697499999983}, {\"size\": 100000, \"source\": \"time_scipy\", \"time\": 0.4925680830000019}, {\"size\": 100000, \"source\": \"time_scipy\", \"time\": 0.4971564590000028}, {\"size\": 100000, \"source\": \"time_vville\", \"time\": 0.11845327499999954}, {\"size\": 100000, \"source\": \"time_vville\", \"time\": 0.11441306669999989}, {\"size\": 100000, \"source\": \"time_vville\", \"time\": 0.11495178330000044}, {\"size\": 100000, \"source\": \"time_vville\", \"time\": 0.11535976250000032}, {\"size\": 100000, \"source\": \"time_vville\", \"time\": 0.11427460829999916}, {\"size\": 100000, \"source\": \"time_vville\", \"time\": 0.11821496250000081}, {\"size\": 100000, \"source\": \"time_vville\", \"time\": 0.12212494169999957}, {\"size\": 100000, \"source\": \"time_vville_nn\", \"time\": 0.09340672080000019}, {\"size\": 100000, \"source\": \"time_vville_nn\", \"time\": 0.09372427079999994}, {\"size\": 100000, \"source\": \"time_vville_nn\", \"time\": 0.1002738375000007}, {\"size\": 100000, \"source\": \"time_vville_nn\", \"time\": 0.10205782080000034}, {\"size\": 100000, \"source\": \"time_vville_nn\", \"time\": 0.09416889159999897}, {\"size\": 100000, \"source\": \"time_vville_nn\", \"time\": 0.09191084169999897}, {\"size\": 100000, \"source\": \"time_vville_nn\", \"time\": 0.09337782919999996}, {\"size\": 500000, \"source\": \"time_scipy\", \"time\": 3.093770582999994}, {\"size\": 500000, \"source\": \"time_scipy\", \"time\": 3.6705224579999935}, {\"size\": 500000, \"source\": \"time_scipy\", \"time\": 3.2740330419999992}, {\"size\": 500000, \"source\": \"time_scipy\", \"time\": 2.855660999999998}, {\"size\": 500000, \"source\": \"time_scipy\", \"time\": 2.938253666999998}, {\"size\": 500000, \"source\": \"time_scipy\", \"time\": 2.943807583999998}, {\"size\": 500000, \"source\": \"time_scipy\", \"time\": 3.4391368330000063}, {\"size\": 500000, \"source\": \"time_vville\", \"time\": 0.8293559579999936}, {\"size\": 500000, \"source\": \"time_vville\", \"time\": 0.8153854170000017}, {\"size\": 500000, \"source\": \"time_vville\", \"time\": 0.8394672499999984}, {\"size\": 500000, \"source\": \"time_vville\", \"time\": 0.8395372089999995}, {\"size\": 500000, \"source\": \"time_vville\", \"time\": 0.8200893749999949}, {\"size\": 500000, \"source\": \"time_vville\", \"time\": 1.2674989580000044}, {\"size\": 500000, \"source\": \"time_vville\", \"time\": 1.3396072920000108}, {\"size\": 500000, \"source\": \"time_vville_nn\", \"time\": 0.6586612090000017}, {\"size\": 500000, \"source\": \"time_vville_nn\", \"time\": 0.618885583000008}, {\"size\": 500000, \"source\": \"time_vville_nn\", \"time\": 0.6169245420000067}, {\"size\": 500000, \"source\": \"time_vville_nn\", \"time\": 0.6256542499999966}, {\"size\": 500000, \"source\": \"time_vville_nn\", \"time\": 0.6104860829999978}, {\"size\": 500000, \"source\": \"time_vville_nn\", \"time\": 0.616616417000003}, {\"size\": 500000, \"source\": \"time_vville_nn\", \"time\": 0.6459329589999925}, {\"size\": 1000000, \"source\": \"time_scipy\", \"time\": 8.965812874999997}, {\"size\": 1000000, \"source\": \"time_scipy\", \"time\": 10.990677583000007}, {\"size\": 1000000, \"source\": \"time_scipy\", \"time\": 8.26717958399999}, {\"size\": 1000000, \"source\": \"time_scipy\", \"time\": 7.112460959000003}, {\"size\": 1000000, \"source\": \"time_scipy\", \"time\": 7.056743957999998}, {\"size\": 1000000, \"source\": \"time_scipy\", \"time\": 9.532776000000013}, {\"size\": 1000000, \"source\": \"time_scipy\", \"time\": 7.925893708000018}, {\"size\": 1000000, \"source\": \"time_vville\", \"time\": 2.186979291}, {\"size\": 1000000, \"source\": \"time_vville\", \"time\": 2.0206624159999933}, {\"size\": 1000000, \"source\": \"time_vville\", \"time\": 1.9729489999999998}, {\"size\": 1000000, \"source\": \"time_vville\", \"time\": 1.8637179159999846}, {\"size\": 1000000, \"source\": \"time_vville\", \"time\": 2.106987624999988}, {\"size\": 1000000, \"source\": \"time_vville\", \"time\": 1.9678104589999919}, {\"size\": 1000000, \"source\": \"time_vville\", \"time\": 2.5006084999999985}, {\"size\": 1000000, \"source\": \"time_vville_nn\", \"time\": 2.6692665420000026}, {\"size\": 1000000, \"source\": \"time_vville_nn\", \"time\": 1.7491392499999847}, {\"size\": 1000000, \"source\": \"time_vville_nn\", \"time\": 1.6867802499999982}, {\"size\": 1000000, \"source\": \"time_vville_nn\", \"time\": 2.285786958999978}, {\"size\": 1000000, \"source\": \"time_vville_nn\", \"time\": 1.862891832999992}, {\"size\": 1000000, \"source\": \"time_vville_nn\", \"time\": 1.5474089170000127}, {\"size\": 1000000, \"source\": \"time_vville_nn\", \"time\": 2.0638317089999987}]}}, {\"mode\": \"vega-lite\"});\n",
                            "</script>"
                        ],
                        "text/plain": [
                            "alt.LayerChart(...)"
                        ]
                    },
                    "execution_count": 6,
                    "metadata": {},
                    "output_type": "execute_result"
                }
            ],
            "source": [
                "points = (\n",
                "    alt.Chart(timing_df)\n",
                "    .mark_circle(opacity=0.5)\n",
                "    .encode(x=\"size\", y=alt.Y(\"time\", title=\"time(s)\"), color=\"source\")\n",
                ")\n",
                "mean = (\n",
                "    alt.Chart(timing_df)\n",
                "    .mark_line()\n",
                "    .encode(x=alt.X(\"size\"), y=alt.Y(\"mean(time)\", title=\"time(s)\"), color=\"source\")\n",
                ")\n",
                "points + mean\n"
            ]
        },
        {
            "cell_type": "code",
            "execution_count": 7,
            "metadata": {},
            "outputs": [],
            "source": [
                "unstacked_means = timing_df.groupby([\"size\", \"source\"]).mean().unstack()\n",
                "unstacked_means.columns = unstacked_means[\"time\"].columns\n",
                "for column in unstacked_means:\n",
                "    name = column[column.find(\"_\") + 1 :]\n",
                "    unstacked_means[f\"scipy_ratio_{name}\"] = (\n",
                "        unstacked_means[\"time_scipy\"] / unstacked_means[column]\n",
                "    )\n"
            ]
        },
        {
            "cell_type": "code",
            "execution_count": 8,
            "metadata": {},
            "outputs": [],
            "source": [
                "ratio_data = (\n",
                "    unstacked_means.reset_index()[\n",
                "        [\"size\", \"scipy_ratio_vville\", \"scipy_ratio_vville_nn\"]\n",
                "    ]\n",
                "    .set_index(\"size\")\n",
                "    .stack()\n",
                "    .reset_index()\n",
                "    .rename(columns={0: \"time\"})\n",
                ")\n"
            ]
        },
        {
            "cell_type": "code",
            "execution_count": 9,
            "metadata": {},
            "outputs": [
                {
                    "name": "stderr",
                    "output_type": "stream",
                    "text": [
                        "/Users/peter/miniconda3/envs/voronoiville/lib/python3.8/site-packages/altair/utils/core.py:317: FutureWarning: iteritems is deprecated and will be removed in a future version. Use .items instead.\n",
                        "  for col_name, dtype in df.dtypes.iteritems():\n"
                    ]
                },
                {
                    "data": {
                        "text/html": [
                            "\n",
                            "<div id=\"altair-viz-207f3c58b19e4aa58da689aa6e088fe4\"></div>\n",
                            "<script type=\"text/javascript\">\n",
                            "  var VEGA_DEBUG = (typeof VEGA_DEBUG == \"undefined\") ? {} : VEGA_DEBUG;\n",
                            "  (function(spec, embedOpt){\n",
                            "    let outputDiv = document.currentScript.previousElementSibling;\n",
                            "    if (outputDiv.id !== \"altair-viz-207f3c58b19e4aa58da689aa6e088fe4\") {\n",
                            "      outputDiv = document.getElementById(\"altair-viz-207f3c58b19e4aa58da689aa6e088fe4\");\n",
                            "    }\n",
                            "    const paths = {\n",
                            "      \"vega\": \"https://cdn.jsdelivr.net/npm//vega@5?noext\",\n",
                            "      \"vega-lib\": \"https://cdn.jsdelivr.net/npm//vega-lib?noext\",\n",
                            "      \"vega-lite\": \"https://cdn.jsdelivr.net/npm//vega-lite@4.17.0?noext\",\n",
                            "      \"vega-embed\": \"https://cdn.jsdelivr.net/npm//vega-embed@6?noext\",\n",
                            "    };\n",
                            "\n",
                            "    function maybeLoadScript(lib, version) {\n",
                            "      var key = `${lib.replace(\"-\", \"\")}_version`;\n",
                            "      return (VEGA_DEBUG[key] == version) ?\n",
                            "        Promise.resolve(paths[lib]) :\n",
                            "        new Promise(function(resolve, reject) {\n",
                            "          var s = document.createElement('script');\n",
                            "          document.getElementsByTagName(\"head\")[0].appendChild(s);\n",
                            "          s.async = true;\n",
                            "          s.onload = () => {\n",
                            "            VEGA_DEBUG[key] = version;\n",
                            "            return resolve(paths[lib]);\n",
                            "          };\n",
                            "          s.onerror = () => reject(`Error loading script: ${paths[lib]}`);\n",
                            "          s.src = paths[lib];\n",
                            "        });\n",
                            "    }\n",
                            "\n",
                            "    function showError(err) {\n",
                            "      outputDiv.innerHTML = `<div class=\"error\" style=\"color:red;\">${err}</div>`;\n",
                            "      throw err;\n",
                            "    }\n",
                            "\n",
                            "    function displayChart(vegaEmbed) {\n",
                            "      vegaEmbed(outputDiv, spec, embedOpt)\n",
                            "        .catch(err => showError(`Javascript Error: ${err.message}<br>This usually means there's a typo in your chart specification. See the javascript console for the full traceback.`));\n",
                            "    }\n",
                            "\n",
                            "    if(typeof define === \"function\" && define.amd) {\n",
                            "      requirejs.config({paths});\n",
                            "      require([\"vega-embed\"], displayChart, err => showError(`Error loading script: ${err.message}`));\n",
                            "    } else {\n",
                            "      maybeLoadScript(\"vega\", \"5\")\n",
                            "        .then(() => maybeLoadScript(\"vega-lite\", \"4.17.0\"))\n",
                            "        .then(() => maybeLoadScript(\"vega-embed\", \"6\"))\n",
                            "        .catch(showError)\n",
                            "        .then(() => displayChart(vegaEmbed));\n",
                            "    }\n",
                            "  })({\"config\": {\"view\": {\"continuousWidth\": 400, \"continuousHeight\": 300}}, \"data\": {\"name\": \"data-63b4eea0c297c586ed3410b0a1ce5fcb\"}, \"mark\": \"line\", \"encoding\": {\"color\": {\"field\": \"source\", \"type\": \"nominal\"}, \"x\": {\"field\": \"size\", \"type\": \"quantitative\"}, \"y\": {\"field\": \"time\", \"type\": \"quantitative\"}}, \"$schema\": \"https://vega.github.io/schema/vega-lite/v4.17.0.json\", \"datasets\": {\"data-63b4eea0c297c586ed3410b0a1ce5fcb\": [{\"size\": 100, \"source\": \"scipy_ratio_vville\", \"time\": 3.8999099210057624}, {\"size\": 100, \"source\": \"scipy_ratio_vville_nn\", \"time\": 4.539498431982425}, {\"size\": 500, \"source\": \"scipy_ratio_vville\", \"time\": 4.277763087391034}, {\"size\": 500, \"source\": \"scipy_ratio_vville_nn\", \"time\": 5.1664743643075575}, {\"size\": 1000, \"source\": \"scipy_ratio_vville\", \"time\": 4.29997152252538}, {\"size\": 1000, \"source\": \"scipy_ratio_vville_nn\", \"time\": 4.9527733456952046}, {\"size\": 10000, \"source\": \"scipy_ratio_vville\", \"time\": 3.8957180362928105}, {\"size\": 10000, \"source\": \"scipy_ratio_vville_nn\", \"time\": 4.338979893185242}, {\"size\": 100000, \"source\": \"scipy_ratio_vville\", \"time\": 4.32381198822586}, {\"size\": 100000, \"source\": \"scipy_ratio_vville_nn\", \"time\": 5.286102165030052}, {\"size\": 500000, \"source\": \"scipy_ratio_vville\", \"time\": 3.2906795743849715}, {\"size\": 500000, \"source\": \"scipy_ratio_vville_nn\", \"time\": 5.056765492901134}, {\"size\": 1000000, \"source\": \"scipy_ratio_vville\", \"time\": 4.0938926524603545}, {\"size\": 1000000, \"source\": \"scipy_ratio_vville_nn\", \"time\": 4.316703168228204}]}}, {\"mode\": \"vega-lite\"});\n",
                            "</script>"
                        ],
                        "text/plain": [
                            "alt.Chart(...)"
                        ]
                    },
                    "execution_count": 9,
                    "metadata": {},
                    "output_type": "execute_result"
                }
            ],
            "source": [
                "alt.Chart(ratio_data).mark_line().encode(x=\"size\", y=\"time\", color=\"source\")\n"
            ]
        },
        {
            "cell_type": "code",
            "execution_count": null,
            "metadata": {},
            "outputs": [],
            "source": []
        }
    ],
    "metadata": {
        "kernelspec": {
            "display_name": "voronoiville",
            "language": "python",
            "name": "python3"
        },
        "language_info": {
            "codemirror_mode": {
                "name": "ipython",
                "version": 3
            },
            "file_extension": ".py",
            "mimetype": "text/x-python",
            "name": "python",
            "nbconvert_exporter": "python",
            "pygments_lexer": "ipython3",
            "version": "3.8.15"
        },
        "orig_nbformat": 4,
        "vscode": {
            "interpreter": {
                "hash": "90032dba2020bc3b597caa74f2143fdc01e21ba242c997e57887754077a77dc6"
            }
        }
    },
    "nbformat": 4,
    "nbformat_minor": 2
}
